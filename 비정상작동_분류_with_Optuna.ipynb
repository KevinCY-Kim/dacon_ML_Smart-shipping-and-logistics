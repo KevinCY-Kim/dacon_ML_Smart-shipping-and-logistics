{
  "nbformat": 4,
  "nbformat_minor": 0,
  "metadata": {
    "colab": {
      "provenance": [],
      "gpuType": "V5E1",
      "include_colab_link": true
    },
    "kernelspec": {
      "name": "python3",
      "display_name": "Python 3"
    },
    "language_info": {
      "name": "python"
    },
    "accelerator": "TPU"
  },
  "cells": [
    {
      "cell_type": "markdown",
      "metadata": {
        "id": "view-in-github",
        "colab_type": "text"
      },
      "source": [
        "<a href=\"https://colab.research.google.com/github/KevinCY-Kim/dacon_ML_Smart-shipping-and-logistics/blob/main/%EB%B9%84%EC%A0%95%EC%83%81%EC%9E%91%EB%8F%99_%EB%B6%84%EB%A5%98_with_Optuna.ipynb\" target=\"_parent\"><img src=\"https://colab.research.google.com/assets/colab-badge.svg\" alt=\"Open In Colab\"/></a>"
      ]
    },
    {
      "cell_type": "code",
      "source": [
        "!pip install optuna"
      ],
      "metadata": {
        "colab": {
          "base_uri": "https://localhost:8080/"
        },
        "id": "pKwgn2q6Zmz5",
        "outputId": "9d43f3e3-4686-4c5e-a768-7dd256a17f8b"
      },
      "execution_count": null,
      "outputs": [
        {
          "output_type": "stream",
          "name": "stdout",
          "text": [
            "Requirement already satisfied: optuna in /usr/local/lib/python3.12/dist-packages (4.5.0)\n",
            "Requirement already satisfied: alembic>=1.5.0 in /usr/local/lib/python3.12/dist-packages (from optuna) (1.16.5)\n",
            "Requirement already satisfied: colorlog in /usr/local/lib/python3.12/dist-packages (from optuna) (6.9.0)\n",
            "Requirement already satisfied: numpy in /usr/local/lib/python3.12/dist-packages (from optuna) (2.0.2)\n",
            "Requirement already satisfied: packaging>=20.0 in /usr/local/lib/python3.12/dist-packages (from optuna) (25.0)\n",
            "Requirement already satisfied: sqlalchemy>=1.4.2 in /usr/local/lib/python3.12/dist-packages (from optuna) (2.0.43)\n",
            "Requirement already satisfied: tqdm in /usr/local/lib/python3.12/dist-packages (from optuna) (4.67.1)\n",
            "Requirement already satisfied: PyYAML in /usr/local/lib/python3.12/dist-packages (from optuna) (6.0.2)\n",
            "Requirement already satisfied: Mako in /usr/local/lib/python3.12/dist-packages (from alembic>=1.5.0->optuna) (1.3.10)\n",
            "Requirement already satisfied: typing-extensions>=4.12 in /usr/local/lib/python3.12/dist-packages (from alembic>=1.5.0->optuna) (4.15.0)\n",
            "Requirement already satisfied: greenlet>=1 in /usr/local/lib/python3.12/dist-packages (from sqlalchemy>=1.4.2->optuna) (3.2.4)\n",
            "Requirement already satisfied: MarkupSafe>=0.9.2 in /usr/local/lib/python3.12/dist-packages (from Mako->alembic>=1.5.0->optuna) (3.0.2)\n"
          ]
        }
      ]
    },
    {
      "cell_type": "code",
      "source": [
        "import pandas as pd\n",
        "from sklearn.model_selection import train_test_split\n",
        "from sklearn.tree import DecisionTreeClassifier\n",
        "from sklearn.ensemble import RandomForestClassifier, StackingClassifier\n",
        "from sklearn.linear_model import LogisticRegression\n",
        "from sklearn.metrics import f1_score, accuracy_score\n",
        "import optuna"
      ],
      "metadata": {
        "id": "8EWVwdaMZmI7"
      },
      "execution_count": null,
      "outputs": []
    },
    {
      "cell_type": "code",
      "source": [
        "# =======================\n",
        "# 1. 데이터 로드\n",
        "# =======================\n",
        "train = pd.read_csv(\"train.csv\", sep=\",\")\n",
        "test = pd.read_csv(\"test.csv\", sep=\",\")\n",
        "\n",
        "X = train.drop(columns=[\"ID\", \"target\"])\n",
        "y = train[\"target\"]\n",
        "\n",
        "X_test = test.drop(columns=[\"ID\"])\n",
        "\n",
        "X_train, X_valid, y_train, y_valid = train_test_split(X, y, test_size=0.2, random_state=42, stratify=y)\n"
      ],
      "metadata": {
        "id": "GKkhcSyVZqzV"
      },
      "execution_count": null,
      "outputs": []
    },
    {
      "cell_type": "code",
      "source": [
        "from sklearn.metrics import f1_score\n",
        "# =======================\n",
        "# 2. Optuna 목적 함수 정의\n",
        "# =======================\n",
        "def DecisionTreeobjective(trial):\n",
        "    max_depth = trial.suggest_int(\"max_depth\", 2, 20)\n",
        "    min_samples_split = trial.suggest_int(\"min_samples_split\", 2, 20)\n",
        "    model = DecisionTreeClassifier(max_depth=max_depth, min_samples_split=min_samples_split, random_state=4)\n",
        "    model.fit(X_train, y_train)\n",
        "    y_pred = model.predict(X_valid)\n",
        "    return f1_score(y_valid, y_pred, average=\"macro\")\n",
        "\n",
        "def RandomForestobjective(trial):\n",
        "    n_estimators = trial.suggest_int(\"n_estimators\", 50, 300)\n",
        "    max_depth = trial.suggest_int(\"max_depth\", 2, 20)\n",
        "    model = RandomForestClassifier(n_estimators=n_estimators, max_depth=max_depth, random_state=42)\n",
        "    model.fit(X_train, y_train)\n",
        "    y_pred = model.predict(X_valid)\n",
        "    return f1_score(y_valid, y_pred, average=\"macro\")\n",
        "\n",
        "def Logisticobjective(trial):\n",
        "    C = trial.suggest_loguniform(\"C\", 1e-3, 10)\n",
        "    model = LogisticRegression(C=C, max_iter=1000, random_state=42)\n",
        "    model.fit(X_train, y_train)\n",
        "    y_pred = model.predict(X_valid)\n",
        "    return f1_score(y_valid, y_pred, average=\"macro\")"
      ],
      "metadata": {
        "id": "w3gSBaZPZufK"
      },
      "execution_count": null,
      "outputs": []
    },
    {
      "cell_type": "code",
      "source": [
        "# =======================\n",
        "# 3. Optuna 실행\n",
        "# =======================\n",
        "print(\"Tuning Decision Tree...\")\n",
        "study_dt = optuna.create_study(direction=\"maximize\")\n",
        "study_dt.optimize(DecisionTreeobjective, n_trials=50)\n",
        "print(\"Best params (DT):\", study_dt.best_params)\n",
        "\n",
        "print(\"Tuning Random Forest...\")\n",
        "study_rf = optuna.create_study(direction=\"maximize\")\n",
        "study_rf.optimize(RandomForestobjective, n_trials=50)\n",
        "print(\"Best params (RF):\", study_rf.best_params)\n",
        "\n",
        "print(\"Tuning Logistic Regression...\")\n",
        "study_lr = optuna.create_study(direction=\"maximize\")\n",
        "study_lr.optimize(Logisticobjective, n_trials=50)\n",
        "print(\"Best params (LR):\", study_lr.best_params)"
      ],
      "metadata": {
        "colab": {
          "base_uri": "https://localhost:8080/",
          "height": 238
        },
        "id": "TD-Qvp_oZ4_D",
        "outputId": "3cfcf2c8-ff04-434a-8e18-20ac3b9faa62"
      },
      "execution_count": null,
      "outputs": [
        {
          "output_type": "stream",
          "name": "stdout",
          "text": [
            "Tuning Decision Tree...\n"
          ]
        },
        {
          "output_type": "error",
          "ename": "NameError",
          "evalue": "name 'optuna' is not defined",
          "traceback": [
            "\u001b[0;31m---------------------------------------------------------------------------\u001b[0m",
            "\u001b[0;31mNameError\u001b[0m                                 Traceback (most recent call last)",
            "\u001b[0;32m/tmp/ipython-input-2016989681.py\u001b[0m in \u001b[0;36m<cell line: 0>\u001b[0;34m()\u001b[0m\n\u001b[1;32m      3\u001b[0m \u001b[0;31m# =======================\u001b[0m\u001b[0;34m\u001b[0m\u001b[0;34m\u001b[0m\u001b[0m\n\u001b[1;32m      4\u001b[0m \u001b[0mprint\u001b[0m\u001b[0;34m(\u001b[0m\u001b[0;34m\"Tuning Decision Tree...\"\u001b[0m\u001b[0;34m)\u001b[0m\u001b[0;34m\u001b[0m\u001b[0;34m\u001b[0m\u001b[0m\n\u001b[0;32m----> 5\u001b[0;31m \u001b[0mstudy_dt\u001b[0m \u001b[0;34m=\u001b[0m \u001b[0moptuna\u001b[0m\u001b[0;34m.\u001b[0m\u001b[0mcreate_study\u001b[0m\u001b[0;34m(\u001b[0m\u001b[0mdirection\u001b[0m\u001b[0;34m=\u001b[0m\u001b[0;34m\"maximize\"\u001b[0m\u001b[0;34m)\u001b[0m\u001b[0;34m\u001b[0m\u001b[0;34m\u001b[0m\u001b[0m\n\u001b[0m\u001b[1;32m      6\u001b[0m \u001b[0mstudy_dt\u001b[0m\u001b[0;34m.\u001b[0m\u001b[0moptimize\u001b[0m\u001b[0;34m(\u001b[0m\u001b[0mDecisionTreeobjective\u001b[0m\u001b[0;34m,\u001b[0m \u001b[0mn_trials\u001b[0m\u001b[0;34m=\u001b[0m\u001b[0;36m50\u001b[0m\u001b[0;34m)\u001b[0m\u001b[0;34m\u001b[0m\u001b[0;34m\u001b[0m\u001b[0m\n\u001b[1;32m      7\u001b[0m \u001b[0mprint\u001b[0m\u001b[0;34m(\u001b[0m\u001b[0;34m\"Best params (DT):\"\u001b[0m\u001b[0;34m,\u001b[0m \u001b[0mstudy_dt\u001b[0m\u001b[0;34m.\u001b[0m\u001b[0mbest_params\u001b[0m\u001b[0;34m)\u001b[0m\u001b[0;34m\u001b[0m\u001b[0;34m\u001b[0m\u001b[0m\n",
            "\u001b[0;31mNameError\u001b[0m: name 'optuna' is not defined"
          ]
        }
      ]
    },
    {
      "cell_type": "code",
      "source": [
        "# =======================\n",
        "# 4. 최적 모델 생성\n",
        "# =======================\n",
        "dt_best = DecisionTreeClassifier(**study_dt.best_params, random_state=42)\n",
        "rf_best = RandomForestClassifier(**study_rf.best_params, random_state=42)\n",
        "lr_best = LogisticRegression(**study_lr.best_params, max_iter=1000, random_state=42)"
      ],
      "metadata": {
        "id": "ph6Rv6AgZ7sU"
      },
      "execution_count": null,
      "outputs": []
    },
    {
      "cell_type": "code",
      "source": [
        "# =======================\n",
        "# 5. 스태킹\n",
        "# =======================\n",
        "estimators = [\n",
        "    ('dt', dt_best),\n",
        "    ('rf', rf_best)\n",
        "]\n",
        "\n",
        "stack_model = StackingClassifier(\n",
        "    estimators=estimators,\n",
        "    final_estimator=lr_best,\n",
        "    passthrough=True  # 전방모델 예측결과도 함께 사용\n",
        ")\n",
        "\n",
        "stack_model.fit(X_train, y_train)\n",
        "y_pred = stack_model.predict(X_valid)\n",
        "\n",
        "print(\"Accuracy:\", accuracy_score(y_valid, y_pred))\n",
        "print(\"F1 Score:\", f1_score(y_valid, y_pred))\n"
      ],
      "metadata": {
        "id": "Deg96wNsZ9tq"
      },
      "execution_count": null,
      "outputs": []
    },
    {
      "cell_type": "code",
      "source": [
        "# =======================\n",
        "# 6. 최종 예측\n",
        "# =======================\n",
        "X_test = test.drop(columns=[\"ID\"])\n",
        "test_pred = stack_model.predict(X_test)\n",
        "\n",
        "submission = pd.DataFrame({\n",
        "    \"ID\": test[\"ID\"],\n",
        "    \"target\": test_pred\n",
        "})\n",
        "\n",
        "submission.to_csv(\"submission.csv\", index=False)\n",
        "print(\"submission.csv 파일 생성 완료!\")"
      ],
      "metadata": {
        "id": "9KQ2BxCcaAdT"
      },
      "execution_count": null,
      "outputs": []
    }
  ]
}